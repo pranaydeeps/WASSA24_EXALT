{
 "cells": [
  {
   "cell_type": "code",
   "execution_count": 1,
   "metadata": {},
   "outputs": [],
   "source": [
    "import os\n",
    "from datasets import Dataset, DatasetDict, load_metric\n",
    "import pandas as pd\n",
    "import os\n",
    "import numpy as np"
   ]
  },
  {
   "cell_type": "code",
   "execution_count": 2,
   "metadata": {},
   "outputs": [],
   "source": [
    "#If you don't have the train and dev files, you have to register on the Codalab competition to get access to the data\n",
    "#https://codalab.lisn.upsaclay.fr/competitions/17730\n",
    "\n",
    "path_to_trainfile = os.path.join(\"..\",\"data\", \"exalt_emotion_train.tsv\")\n",
    "train_file = pd.read_csv(path_to_trainfile, sep=\"\\t\")\n",
    "\n",
    "path_to_dev_file = os.path.join(\"..\",\"data\", \"exalt_emotion_dev_participants.tsv\")\n",
    "dev_file =pd.read_csv(path_to_dev_file, sep=\"\\t\")"
   ]
  },
  {
   "cell_type": "code",
   "execution_count": 3,
   "metadata": {},
   "outputs": [
    {
     "name": "stdout",
     "output_type": "stream",
     "text": [
      "6 Unique Labels: ['Joy', 'Neutral', 'Sadness', 'Love', 'Anger', 'Fear']\n"
     ]
    }
   ],
   "source": [
    "unique_labels = train_file[\"Labels\"].unique().tolist()\n",
    "print(\"{} Unique Labels: {}\".format(len(unique_labels), unique_labels))\n",
    "\n",
    "label2id = {label: i for i, label in enumerate(unique_labels)}\n",
    "id2label = {i: label for i, label in enumerate(unique_labels)}"
   ]
  },
  {
   "cell_type": "code",
   "execution_count": 4,
   "metadata": {},
   "outputs": [],
   "source": [
    "from sklearn.model_selection import train_test_split\n",
    "\n",
    "#We split the TRAIN data into a TRAIN & DEV set\n",
    "traindf, devdf = train_test_split(train_file, test_size=0.1, random_state=42)\n",
    "\n",
    "#We will get the predictions on the DEV data and submit to Codalab \n",
    "testdf = dev_file"
   ]
  },
  {
   "cell_type": "code",
   "execution_count": 5,
   "metadata": {},
   "outputs": [],
   "source": [
    "datasets = DatasetDict({\n",
    "    \"train\": Dataset.from_pandas(traindf),\n",
    "    \"dev\" : Dataset.from_pandas(devdf),\n",
    "    \"test\": Dataset.from_pandas(testdf)\n",
    "    })"
   ]
  },
  {
   "cell_type": "code",
   "execution_count": 6,
   "metadata": {},
   "outputs": [
    {
     "data": {
      "application/vnd.jupyter.widget-view+json": {
       "model_id": "4e9ef30936ba4ea381be8679d3820509",
       "version_major": 2,
       "version_minor": 0
      },
      "text/plain": [
       "Map:   0%|          | 0/4500 [00:00<?, ? examples/s]"
      ]
     },
     "metadata": {},
     "output_type": "display_data"
    },
    {
     "data": {
      "application/vnd.jupyter.widget-view+json": {
       "model_id": "463d39a657b443868bad4acb0e1819a7",
       "version_major": 2,
       "version_minor": 0
      },
      "text/plain": [
       "Map:   0%|          | 0/500 [00:00<?, ? examples/s]"
      ]
     },
     "metadata": {},
     "output_type": "display_data"
    },
    {
     "data": {
      "application/vnd.jupyter.widget-view+json": {
       "model_id": "b0ef9a302b1545f2a75b589e0410d4aa",
       "version_major": 2,
       "version_minor": 0
      },
      "text/plain": [
       "Map:   0%|          | 0/500 [00:00<?, ? examples/s]"
      ]
     },
     "metadata": {},
     "output_type": "display_data"
    }
   ],
   "source": [
    "MODEL_NAME = \"xlm-roberta-base\"\n",
    "\n",
    "from transformers import AutoTokenizer\n",
    "tokenizer = AutoTokenizer.from_pretrained(MODEL_NAME)\n",
    "\n",
    "def preprocess_function(examples):\n",
    "    if \"Labels\" in examples:\n",
    "        examples[\"label\"] = [label2id[x] for x in examples[\"Labels\"]]\n",
    "    return tokenizer(examples[\"Texts\"], truncation=True)\n",
    "\n",
    "\n",
    "tokenized_datasets = datasets.map(preprocess_function, batched=True)\n"
   ]
  },
  {
   "cell_type": "code",
   "execution_count": 7,
   "metadata": {},
   "outputs": [],
   "source": [
    "from transformers import DataCollatorWithPadding\n",
    "data_collator = DataCollatorWithPadding(tokenizer=tokenizer)"
   ]
  },
  {
   "cell_type": "code",
   "execution_count": 8,
   "metadata": {},
   "outputs": [
    {
     "name": "stderr",
     "output_type": "stream",
     "text": [
      "huggingface/tokenizers: The current process just got forked, after parallelism has already been used. Disabling parallelism to avoid deadlocks...\n",
      "To disable this warning, you can either:\n",
      "\t- Avoid using `tokenizers` before the fork if possible\n",
      "\t- Explicitly set the environment variable TOKENIZERS_PARALLELISM=(true | false)\n",
      "huggingface/tokenizers: The current process just got forked, after parallelism has already been used. Disabling parallelism to avoid deadlocks...\n",
      "To disable this warning, you can either:\n",
      "\t- Avoid using `tokenizers` before the fork if possible\n",
      "\t- Explicitly set the environment variable TOKENIZERS_PARALLELISM=(true | false)\n",
      "Some weights of XLMRobertaForSequenceClassification were not initialized from the model checkpoint at xlm-roberta-base and are newly initialized: ['classifier.dense.bias', 'classifier.dense.weight', 'classifier.out_proj.bias', 'classifier.out_proj.weight']\n",
      "You should probably TRAIN this model on a down-stream task to be able to use it for predictions and inference.\n"
     ]
    }
   ],
   "source": [
    "from transformers import AutoModelForSequenceClassification, TrainingArguments, Trainer\n",
    "\n",
    "model = AutoModelForSequenceClassification.from_pretrained(MODEL_NAME, num_labels=6)"
   ]
  },
  {
   "cell_type": "code",
   "execution_count": 9,
   "metadata": {},
   "outputs": [],
   "source": [
    "def custom_metrics(eval_pred):\n",
    "    metric1 = load_metric(\"precision\", trust_remote_code=True)\n",
    "    metric2 = load_metric(\"recall\", trust_remote_code=True)\n",
    "    metric3 = load_metric(\"f1\", trust_remote_code=True)\n",
    "    metric4 = load_metric(\"accuracy\", trust_remote_code=True)\n",
    "    \n",
    "    logits, labels = eval_pred\n",
    "    predictions = np.argmax(logits, axis=-1)\n",
    "\n",
    "    precision = metric1.compute(predictions=predictions, references=labels, average=\"macro\")[\"precision\"]\n",
    "    recall = metric2.compute(predictions=predictions, references=labels, average=\"macro\")[\"recall\"]\n",
    "    f1 = metric3.compute(predictions=predictions, references=labels, average=\"macro\")[\"f1\"]\n",
    "    accuracy = metric4.compute(predictions=predictions, references=labels)[\"accuracy\"]\n",
    "\n",
    "    return {\"precision\": precision, \"recall\": recall, \"f1\": f1, \"accuracy\": accuracy}\n"
   ]
  },
  {
   "cell_type": "code",
   "execution_count": 14,
   "metadata": {},
   "outputs": [
    {
     "data": {
      "text/html": [
       "\n",
       "    <div>\n",
       "      \n",
       "      <progress value='11250' max='11250' style='width:300px; height:20px; vertical-align: middle;'></progress>\n",
       "      [11250/11250 19:02, Epoch 10/10]\n",
       "    </div>\n",
       "    <table border=\"1\" class=\"dataframe\">\n",
       "  <thead>\n",
       " <tr style=\"text-align: left;\">\n",
       "      <th>Epoch</th>\n",
       "      <th>Training Loss</th>\n",
       "      <th>Validation Loss</th>\n",
       "      <th>Precision</th>\n",
       "      <th>Recall</th>\n",
       "      <th>F1</th>\n",
       "      <th>Accuracy</th>\n",
       "    </tr>\n",
       "  </thead>\n",
       "  <tbody>\n",
       "    <tr>\n",
       "      <td>1</td>\n",
       "      <td>0.980000</td>\n",
       "      <td>1.374867</td>\n",
       "      <td>0.488664</td>\n",
       "      <td>0.436292</td>\n",
       "      <td>0.431642</td>\n",
       "      <td>0.566000</td>\n",
       "    </tr>\n",
       "    <tr>\n",
       "      <td>2</td>\n",
       "      <td>0.806800</td>\n",
       "      <td>1.749279</td>\n",
       "      <td>0.481157</td>\n",
       "      <td>0.495097</td>\n",
       "      <td>0.470254</td>\n",
       "      <td>0.564000</td>\n",
       "    </tr>\n",
       "    <tr>\n",
       "      <td>3</td>\n",
       "      <td>0.750100</td>\n",
       "      <td>2.260848</td>\n",
       "      <td>0.544075</td>\n",
       "      <td>0.511825</td>\n",
       "      <td>0.510749</td>\n",
       "      <td>0.594000</td>\n",
       "    </tr>\n",
       "    <tr>\n",
       "      <td>4</td>\n",
       "      <td>0.641300</td>\n",
       "      <td>2.134241</td>\n",
       "      <td>0.494237</td>\n",
       "      <td>0.513378</td>\n",
       "      <td>0.497726</td>\n",
       "      <td>0.604000</td>\n",
       "    </tr>\n",
       "    <tr>\n",
       "      <td>5</td>\n",
       "      <td>0.504400</td>\n",
       "      <td>2.769083</td>\n",
       "      <td>0.517468</td>\n",
       "      <td>0.509275</td>\n",
       "      <td>0.505801</td>\n",
       "      <td>0.586000</td>\n",
       "    </tr>\n",
       "    <tr>\n",
       "      <td>6</td>\n",
       "      <td>0.415200</td>\n",
       "      <td>2.842670</td>\n",
       "      <td>0.518546</td>\n",
       "      <td>0.518891</td>\n",
       "      <td>0.516861</td>\n",
       "      <td>0.608000</td>\n",
       "    </tr>\n",
       "    <tr>\n",
       "      <td>7</td>\n",
       "      <td>0.220600</td>\n",
       "      <td>3.202114</td>\n",
       "      <td>0.513886</td>\n",
       "      <td>0.515375</td>\n",
       "      <td>0.504290</td>\n",
       "      <td>0.592000</td>\n",
       "    </tr>\n",
       "    <tr>\n",
       "      <td>8</td>\n",
       "      <td>0.165700</td>\n",
       "      <td>3.321933</td>\n",
       "      <td>0.503249</td>\n",
       "      <td>0.508785</td>\n",
       "      <td>0.502567</td>\n",
       "      <td>0.580000</td>\n",
       "    </tr>\n",
       "    <tr>\n",
       "      <td>9</td>\n",
       "      <td>0.107700</td>\n",
       "      <td>3.379265</td>\n",
       "      <td>0.513380</td>\n",
       "      <td>0.519011</td>\n",
       "      <td>0.512982</td>\n",
       "      <td>0.598000</td>\n",
       "    </tr>\n",
       "    <tr>\n",
       "      <td>10</td>\n",
       "      <td>0.058600</td>\n",
       "      <td>3.434682</td>\n",
       "      <td>0.510965</td>\n",
       "      <td>0.522103</td>\n",
       "      <td>0.512233</td>\n",
       "      <td>0.588000</td>\n",
       "    </tr>\n",
       "  </tbody>\n",
       "</table><p>"
      ],
      "text/plain": [
       "<IPython.core.display.HTML object>"
      ]
     },
     "metadata": {},
     "output_type": "display_data"
    },
    {
     "name": "stderr",
     "output_type": "stream",
     "text": [
      "/home/pranay/.local/lib/python3.10/site-packages/sklearn/metrics/_classification.py:1497: UndefinedMetricWarning: Precision is ill-defined and being set to 0.0 in labels with no predicted samples. Use `zero_division` parameter to control this behavior.\n",
      "  _warn_prf(average, modifier, f\"{metric.capitalize()} is\", len(result))\n"
     ]
    },
    {
     "data": {
      "text/plain": [
       "TrainOutput(global_step=11250, training_loss=0.4579190306769477, metrics={'train_runtime': 1142.1699, 'train_samples_per_second': 39.399, 'train_steps_per_second': 9.85, 'total_flos': 1410064841023632.0, 'train_loss': 0.4579190306769477, 'epoch': 10.0})"
      ]
     },
     "execution_count": 14,
     "metadata": {},
     "output_type": "execute_result"
    }
   ],
   "source": [
    "training_args = TrainingArguments(\n",
    "    output_dir=\"./results\",\n",
    "    learning_rate=4e-5,\n",
    "    per_device_train_batch_size=4,\n",
    "    per_device_eval_batch_size=4,\n",
    "    num_train_epochs=10,\n",
    "    weight_decay=0.01,\n",
    "    evaluation_strategy=\"epoch\",\n",
    "    save_strategy=\"epoch\",\n",
    "    # load_best_model_at_end=True,\n",
    "    save_total_limit=2,\n",
    "    overwrite_output_dir=True,\n",
    ")\n",
    "\n",
    "trainer = Trainer(\n",
    "    model=model,\n",
    "    args=training_args,\n",
    "    train_dataset=tokenized_datasets[\"train\"],\n",
    "    eval_dataset=tokenized_datasets[\"dev\"],\n",
    "    tokenizer=tokenizer,\n",
    "    data_collator=data_collator,\n",
    "    compute_metrics=custom_metrics,\n",
    "\n",
    ")\n",
    "\n",
    "trainer.train()"
   ]
  },
  {
   "cell_type": "code",
   "execution_count": 15,
   "metadata": {},
   "outputs": [
    {
     "data": {
      "text/html": [],
      "text/plain": [
       "<IPython.core.display.HTML object>"
      ]
     },
     "metadata": {},
     "output_type": "display_data"
    }
   ],
   "source": [
    "results = trainer.predict(tokenized_datasets[\"test\"])"
   ]
  },
  {
   "cell_type": "code",
   "execution_count": 16,
   "metadata": {},
   "outputs": [
    {
     "name": "stdout",
     "output_type": "stream",
     "text": [
      "['Joy', 'Joy', 'Neutral', 'Neutral', 'Neutral', 'Neutral', 'Joy', 'Neutral', 'Sadness', 'Joy', 'Neutral', 'Joy', 'Joy', 'Anger', 'Neutral', 'Anger', 'Sadness', 'Joy', 'Joy', 'Sadness', 'Sadness', 'Neutral', 'Joy', 'Joy', 'Joy', 'Anger', 'Neutral', 'Neutral', 'Neutral', 'Anger', 'Anger', 'Joy', 'Sadness', 'Joy', 'Anger', 'Anger', 'Fear', 'Fear', 'Neutral', 'Sadness', 'Neutral', 'Love', 'Neutral', 'Neutral', 'Neutral', 'Joy', 'Sadness', 'Joy', 'Love', 'Neutral', 'Sadness', 'Anger', 'Neutral', 'Love', 'Neutral', 'Neutral', 'Anger', 'Sadness', 'Neutral', 'Neutral', 'Joy', 'Fear', 'Anger', 'Anger', 'Joy', 'Sadness', 'Sadness', 'Joy', 'Anger', 'Anger', 'Joy', 'Sadness', 'Anger', 'Joy', 'Sadness', 'Anger', 'Joy', 'Fear', 'Neutral', 'Joy', 'Joy', 'Neutral', 'Joy', 'Anger', 'Neutral', 'Joy', 'Neutral', 'Sadness', 'Love', 'Neutral', 'Neutral', 'Joy', 'Sadness', 'Sadness', 'Neutral', 'Sadness', 'Joy', 'Joy', 'Anger', 'Anger', 'Fear', 'Anger', 'Neutral', 'Joy', 'Joy', 'Sadness', 'Anger', 'Joy', 'Love', 'Neutral', 'Neutral', 'Fear', 'Sadness', 'Neutral', 'Neutral', 'Neutral', 'Neutral', 'Neutral', 'Joy', 'Neutral', 'Sadness', 'Neutral', 'Sadness', 'Neutral', 'Anger', 'Sadness', 'Neutral', 'Neutral', 'Sadness', 'Anger', 'Sadness', 'Joy', 'Sadness', 'Joy', 'Neutral', 'Anger', 'Neutral', 'Anger', 'Fear', 'Love', 'Neutral', 'Neutral', 'Anger', 'Sadness', 'Joy', 'Neutral', 'Neutral', 'Joy', 'Neutral', 'Neutral', 'Joy', 'Anger', 'Anger', 'Joy', 'Anger', 'Neutral', 'Anger', 'Neutral', 'Neutral', 'Love', 'Neutral', 'Neutral', 'Sadness', 'Sadness', 'Joy', 'Love', 'Neutral', 'Neutral', 'Anger', 'Neutral', 'Joy', 'Sadness', 'Love', 'Joy', 'Joy', 'Neutral', 'Love', 'Neutral', 'Love', 'Neutral', 'Joy', 'Love', 'Love', 'Neutral', 'Neutral', 'Sadness', 'Neutral', 'Neutral', 'Anger', 'Neutral', 'Sadness', 'Love', 'Sadness', 'Joy', 'Neutral', 'Sadness', 'Sadness', 'Neutral', 'Joy', 'Love', 'Sadness', 'Anger', 'Neutral', 'Fear', 'Neutral', 'Joy', 'Joy', 'Neutral', 'Joy', 'Joy', 'Joy', 'Neutral', 'Anger', 'Anger', 'Sadness', 'Neutral', 'Love', 'Neutral', 'Joy', 'Joy', 'Love', 'Neutral', 'Neutral', 'Neutral', 'Neutral', 'Anger', 'Neutral', 'Joy', 'Anger', 'Anger', 'Anger', 'Neutral', 'Anger', 'Neutral', 'Joy', 'Anger', 'Neutral', 'Sadness', 'Neutral', 'Joy', 'Sadness', 'Neutral', 'Neutral', 'Joy', 'Joy', 'Anger', 'Anger', 'Sadness', 'Anger', 'Sadness', 'Anger', 'Anger', 'Neutral', 'Sadness', 'Neutral', 'Fear', 'Joy', 'Neutral', 'Anger', 'Neutral', 'Neutral', 'Joy', 'Anger', 'Neutral', 'Anger', 'Sadness', 'Sadness', 'Neutral', 'Anger', 'Sadness', 'Neutral', 'Fear', 'Anger', 'Sadness', 'Neutral', 'Neutral', 'Neutral', 'Neutral', 'Anger', 'Joy', 'Anger', 'Love', 'Joy', 'Neutral', 'Anger', 'Anger', 'Anger', 'Fear', 'Sadness', 'Neutral', 'Anger', 'Anger', 'Joy', 'Fear', 'Neutral', 'Anger', 'Joy', 'Joy', 'Neutral', 'Neutral', 'Anger', 'Anger', 'Neutral', 'Neutral', 'Anger', 'Joy', 'Neutral', 'Love', 'Anger', 'Anger', 'Love', 'Anger', 'Joy', 'Joy', 'Neutral', 'Joy', 'Joy', 'Neutral', 'Anger', 'Anger', 'Sadness', 'Neutral', 'Neutral', 'Anger', 'Joy', 'Love', 'Neutral', 'Neutral', 'Love', 'Neutral', 'Neutral', 'Joy', 'Neutral', 'Joy', 'Anger', 'Joy', 'Neutral', 'Joy', 'Neutral', 'Joy', 'Sadness', 'Joy', 'Love', 'Joy', 'Anger', 'Neutral', 'Anger', 'Joy', 'Anger', 'Anger', 'Sadness', 'Joy', 'Neutral', 'Neutral', 'Anger', 'Anger', 'Neutral', 'Fear', 'Joy', 'Neutral', 'Anger', 'Sadness', 'Joy', 'Sadness', 'Anger', 'Neutral', 'Love', 'Anger', 'Sadness', 'Sadness', 'Sadness', 'Joy', 'Anger', 'Joy', 'Neutral', 'Anger', 'Fear', 'Fear', 'Joy', 'Neutral', 'Anger', 'Neutral', 'Neutral', 'Sadness', 'Neutral', 'Neutral', 'Joy', 'Joy', 'Love', 'Neutral', 'Joy', 'Joy', 'Fear', 'Neutral', 'Joy', 'Joy', 'Neutral', 'Joy', 'Anger', 'Anger', 'Sadness', 'Love', 'Love', 'Love', 'Joy', 'Sadness', 'Sadness', 'Sadness', 'Love', 'Joy', 'Sadness', 'Joy', 'Joy', 'Neutral', 'Joy', 'Neutral', 'Joy', 'Joy', 'Sadness', 'Sadness', 'Neutral', 'Sadness', 'Love', 'Neutral', 'Neutral', 'Love', 'Anger', 'Sadness', 'Joy', 'Joy', 'Neutral', 'Anger', 'Anger', 'Neutral', 'Sadness', 'Fear', 'Joy', 'Sadness', 'Anger', 'Joy', 'Joy', 'Joy', 'Love', 'Neutral', 'Sadness', 'Joy', 'Sadness', 'Love', 'Sadness', 'Joy', 'Anger', 'Joy', 'Joy', 'Love', 'Neutral', 'Neutral', 'Joy', 'Neutral', 'Fear', 'Neutral', 'Neutral', 'Joy', 'Fear', 'Sadness', 'Sadness', 'Sadness', 'Love', 'Joy', 'Joy', 'Neutral', 'Neutral', 'Sadness', 'Love', 'Love', 'Joy', 'Joy', 'Joy', 'Love', 'Neutral', 'Joy', 'Joy', 'Love', 'Joy', 'Joy', 'Love', 'Sadness', 'Joy', 'Love', 'Neutral', 'Sadness', 'Neutral', 'Joy', 'Sadness', 'Joy', 'Anger', 'Fear', 'Joy', 'Love', 'Love', 'Neutral']\n"
     ]
    }
   ],
   "source": [
    "results = np.argmax(results.predictions, axis=-1)\n",
    "results = [id2label[x] for x in results]\n",
    "print(results)"
   ]
  },
  {
   "cell_type": "code",
   "execution_count": 1,
   "metadata": {},
   "outputs": [
    {
     "ename": "NameError",
     "evalue": "name 'results' is not defined",
     "output_type": "error",
     "traceback": [
      "\u001b[0;31m---------------------------------------------------------------------------\u001b[0m",
      "\u001b[0;31mNameError\u001b[0m                                 Traceback (most recent call last)",
      "\u001b[0;32m<ipython-input-1-3eac48b7f9b7>\u001b[0m in \u001b[0;36m<module>\u001b[0;34m\u001b[0m\n\u001b[0;32m----> 1\u001b[0;31m \u001b[0mtestdf\u001b[0m\u001b[0;34m[\u001b[0m\u001b[0;34m\"Labels\"\u001b[0m\u001b[0;34m]\u001b[0m \u001b[0;34m=\u001b[0m \u001b[0mresults\u001b[0m\u001b[0;34m\u001b[0m\u001b[0;34m\u001b[0m\u001b[0m\n\u001b[0m\u001b[1;32m      2\u001b[0m \u001b[0mtestdf\u001b[0m\u001b[0;34m.\u001b[0m\u001b[0mto_csv\u001b[0m\u001b[0;34m(\u001b[0m\u001b[0;34m\"Emotions.tsv\"\u001b[0m\u001b[0;34m,\u001b[0m \u001b[0msep\u001b[0m\u001b[0;34m=\u001b[0m\u001b[0;34m\"\\t\"\u001b[0m\u001b[0;34m,\u001b[0m \u001b[0mindex\u001b[0m\u001b[0;34m=\u001b[0m\u001b[0;32mFalse\u001b[0m\u001b[0;34m)\u001b[0m\u001b[0;34m\u001b[0m\u001b[0;34m\u001b[0m\u001b[0m\n",
      "\u001b[0;31mNameError\u001b[0m: name 'results' is not defined"
     ]
    }
   ],
   "source": [
    "testdf[\"Labels\"] = results\n",
    "testdf.to_csv(\"Emotions.tsv\", sep=\"\\t\", index=False)\n",
    "\n",
    "#We will get the predictions on the DEV data and submit to Codalab\n",
    "#Remember to first ZIP the file before submitting to Codalab\n",
    "#This is the same submission marked as EXALT_Baseline on Codalab."
   ]
  },
  {
   "cell_type": "code",
   "execution_count": null,
   "metadata": {},
   "outputs": [],
   "source": [
    "trainer.push_to_hub(\"pranaydeeps/EXALT-Baseline\", token=\"\") #To push the model to the huggingface hub"
   ]
  }
 ],
 "metadata": {
  "kernelspec": {
   "display_name": "Python 3",
   "language": "python",
   "name": "python3"
  },
  "language_info": {
   "codemirror_mode": {
    "name": "ipython",
    "version": 3
   },
   "file_extension": ".py",
   "mimetype": "text/x-python",
   "name": "python",
   "nbconvert_exporter": "python",
   "pygments_lexer": "ipython3",
   "version": "3.9.18"
  }
 },
 "nbformat": 4,
 "nbformat_minor": 2
}
